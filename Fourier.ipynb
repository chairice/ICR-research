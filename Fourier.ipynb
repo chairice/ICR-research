{
 "cells": [
  {
   "cell_type": "code",
   "execution_count": 1,
   "id": "2bb58698-6747-483a-b53c-ce948188b62a",
   "metadata": {
    "scrolled": true
   },
   "outputs": [],
   "source": [
    "from astropy.io import fits\n",
    "import matplotlib.pyplot as plt\n",
    "import numpy as np\n",
    "import scipy as sp\n",
    "from pathlib import Path\n",
    "import swiftbat\n",
    "\n",
    "\n",
    "mspattern =\"bat/rate/sw*brtms.lc.gz\"\n",
    "pathname = Path(\"/opt/data/mirror/swift\")\n",
    "obsid=\"00059158012\"\n",
    "\n",
    "filename = list(pathname.joinpath(obsid).glob(mspattern))[0]\n",
    "data, header = fits.getdata(filename,  header=True)\n",
    "tb = np.median(np.diff(data['TIME']))    # size of the timebin (ignoring jumps)\n",
    "# print(header)\n",
    "# print(data)\n",
    "# print(tb)\n",
    "\n",
    "# splitting the data by time gaps\n",
    "splitlocs = np.argwhere(np.diff(data['TIME']) > 1.5*tb).ravel() + 1 # gives index of the next time block\n",
    "\n",
    "for datasegment in np.split(data, splitlocs):\n",
    "    starttime = swiftbat.met2datetime(datasegment['TIME'][0]) # time of spacecraft, not always accurate because of clock error\n",
    "    duration = datasegment['TIME'].ptp()\n",
    "    print(f\"{starttime:%Y-%m-%dT%H:%M:%S} + {duration:5.0f} seconds to the end of the block\")\n",
    "    if duration > 1300:\n",
    "    # if duration < 400:\n",
    "        longdatasegment = datasegment\n",
    "        # check if this is the longest data segment\n"
   ]
  },
  {
   "cell_type": "code",
   "execution_count": 2,
   "id": "611f705a-cc88-4ac7-8977-3e32bae90416",
   "metadata": {},
   "outputs": [],
   "source": [
    "# lower number for FFT\n",
    "def prev_fast_FFT_len(n):\n",
    "    ntry = n\n",
    "    nfft = sp.fft.next_fast_len(ntry)\n",
    "    while nfft > n and ntry > 1:\n",
    "        ntry = int(ntry * 0.99) - 1\n",
    "        nfft = sp.fft.next_fast_len(ntry)\n",
    "    return nfft"
   ]
  },
  {
   "cell_type": "code",
   "execution_count": null,
   "id": "b94e32df",
   "metadata": {},
   "outputs": [],
   "source": []
  },
  {
   "cell_type": "code",
   "execution_count": 3,
   "id": "b97cb2fd-5f2f-433a-9abf-23bf91c20704",
   "metadata": {
    "tags": []
   },
   "outputs": [],
   "source": [
    "prev_fast_FFT_len(255)"
   ]
  },
  {
   "cell_type": "code",
   "execution_count": 4,
   "id": "b6497fab-c154-44f0-83bf-80a805c6dfe0",
   "metadata": {
    "tags": []
   },
   "outputs": [],
   "source": [
    "%matplotlib widget\n",
    "\n",
    "n = prev_fast_FFT_len(len(longdatasegment) - int(60 / tb))\n",
    "# Trim to the last n values (throwing away data that is probably during slew)\n",
    "datasegment = longdatasegment[-n:]\n",
    "duration = datasegment['TIME'].ptp()\n",
    "print(f\"{duration:.3f} seconds after trimming\")\n",
    "\n",
    "# Rate for the segment\n",
    "rate = np.sum(datasegment['COUNTS'][:,0:2], axis=-1)/tb\n",
    "fig,ax = plt.subplots(nrows = 1, ncols = 1)\n",
    "ax.plot(np.arange(len(rate)) * tb, rate)\n",
    "ax.set(xlabel='Time??', ylabel='Rate (counts/sec)')"
   ]
  },
  {
   "cell_type": "code",
   "execution_count": 5,
   "id": "23444d1f-826c-4495-89e9-77fa5cb12037",
   "metadata": {},
   "outputs": [],
   "source": [
    "# Forward (time series->frequency) FFT for real input\n",
    "# Subtract the mean to avoid a huge term at 0 frequency\n",
    "\n",
    "# subtracting the mean makes it easier to see variations instead of just average\n",
    "frate = sp.fft.rfft(rate - np.mean(rate), norm = \"forward\")\n",
    "# print(frate[10:20])\n",
    "# not transformed, used as reference for interpreting FFTs\n",
    "freqs = sp.fft.rfftfreq(len(rate), tb)\n",
    "# print(freqs[10:20])\n",
    "for i in range(10,20):\n",
    "    print(frate[i],freqs[i])\n",
    "\n",
    "fig,ax = plt.subplots(1,1)\n",
    "ax.plot(freqs, np.abs(frate))\n",
    "ax.set(xlabel=\"Frequency (Hz)\", ylabel=\"Amplitude\")\n",
    "# plt.show()"
   ]
  },
  {
   "cell_type": "code",
   "execution_count": 6,
   "id": "4c2fbf94-b62c-4acb-9e1d-85ab8301ad8b",
   "metadata": {
    "tags": []
   },
   "outputs": [],
   "source": [
    "%matplotlib widget\n",
    "# Forward (time series->frequency) FFT for real input\n",
    "# Subtract the mean to avoid a huge term at 0 frequency\n",
    "frate = sp.fft.rfft(rate, norm = \"forward\")\n",
    "# print(frate[10:20])\n",
    "freqs = sp.fft.rfftfreq(len(rate), tb)\n",
    "# print(freqs[10:20])\n",
    "\n",
    "invrate = sp.fft.irfft(frate, norm = \"forward\")\n",
    "#for i in range(10,20):\n",
    "#    print(frate[i],freqs[i])\n",
    "times = np.arange(len(rate)) * tb\n",
    "\n",
    "# just for testing\n",
    "# frate[10:] = 0\n",
    "\n",
    "\n",
    "\n",
    "estrate = np.zeros(len(rate))\n",
    "# component amplitude * 2 is generally how far away from the curve the data points are\n",
    "ncomponents = 20\n",
    "# sort from lowest to highest and then flip array\n",
    "ibest = np.argsort(np.abs(frate))[::-1]\n",
    "# count of cycles in entire observation\n",
    "     \n",
    "fig,(axf,axr) = plt.subplots(nrows = 2, ncols = 1)\n",
    "axf.plot(freqs, np.abs(frate))\n",
    "axf.set(xlabel=\"Frequency (Hz)\", ylabel=\"Amplitude\")\n",
    "axr.plot(times, rate, \".\")\n",
    "for i in ibest[:ncomponents]:\n",
    "    print(f\"{i:8d} {freqs[i]:8.4f} {np.abs(frate[i])} {np.rad2deg(np.angle(frate[i]))}\")\n",
    "    estrate += (1 if i == 0 else 2) * np.real(frate[i] * np.exp(times * freqs[i] * 1j * 2 * np.pi))\n",
    "    # phase: angle of the spin of the star as of the start of the datasegment (only at correct frequency)\n",
    "    axr.plot(times, estrate)\n",
    "axr.set(xlabel=\"Seconds\", ylabel=\"Rate\", xlim = [0,20])\n",
    "fig.tight_layout()\n",
    "# plt.show()"
   ]
  },
  {
   "cell_type": "code",
   "execution_count": 7,
   "id": "0247868a-5bb6-436f-b135-80838a8cc63e",
   "metadata": {
    "tags": []
   },
   "outputs": [],
   "source": [
    "%matplotlib widget\n",
    "# playing around with FFTs\n",
    "n = 256 # data points being transformed\n",
    "f = 15.2 # frequency used\n",
    "print(np.arange(n))\n",
    "t = np.arange(n) / n # \n",
    "cf = np.cos(t * f * (2 * np.pi))\n",
    "sf = np.sin(t * f * (2 * np.pi))\n",
    "\n",
    "fig,ax = plt.subplots(nrows = 1, ncols = 1)\n",
    "ax.plot(t, cf)\n",
    "ax.plot(t,sf)\n",
    "plt.show()"
   ]
  },
  {
   "cell_type": "code",
   "execution_count": 8,
   "id": "f71fc1af-3617-43ed-8314-176abc5eaf70",
   "metadata": {},
   "outputs": [],
   "source": [
    "%matplotlib widget\n",
    "\n",
    "data = 1 * cf + 0 * sf\n",
    "\n",
    "fig,ax = plt.subplots(nrows = 1, ncols = 1)\n",
    "ax.plot(t, data)\n",
    "plt.show()\n",
    "\n",
    "# Forward (time series->frequency) FFT for real input\n",
    "# Subtract the mean to avoid a huge term at 0 frequency\n",
    "fdata = sp.fft.rfft(data - np.mean(data), norm = \"forward\")\n",
    "# print(frate[10:20])\n",
    "freqs = sp.fft.rfftfreq(n, 1/n)\n",
    "# print(freqs[10:20])\n",
    "for i in range(10,20):\n",
    "    print(freqs[i], fdata[i], np.abs(fdata[i]), np.rad2deg(np.angle(fdata[i])))\n",
    "    \n",
    "\n",
    "fig,ax = plt.subplots(1,1)\n",
    "ax.plot(freqs, np.abs(fdata))\n",
    "ax.set(xlabel=\"Frequency (Hz)\", ylabel=\"Amplitude\")\n",
    "#plt.show()"
   ]
  },
  {
   "cell_type": "code",
   "execution_count": 9,
   "id": "f16c9d40-3cf4-48ee-82b2-33133930977e",
   "metadata": {
    "tags": []
   },
   "outputs": [],
   "source": [
    "tzero = swiftbat.string2met('2017-11-01T00:00:00')\n",
    "print(tzero)\n",
    "fapprox = 0.1018-.035/(.64*9800)\n",
    "filename = list(pathname.joinpath(obsid).glob(mspattern))[0]\n",
    "data, header = fits.getdata(filename,  header=True)\n",
    "tb = np.median(np.diff(data['TIME']))    # size of the timebin (ignoring jumps)\n",
    "rate = np.sum(data['COUNTS'][:,0:2], axis=-1)/tb\n",
    "splitlocs = np.argwhere(np.diff(data['TIME']) > 1.5*tb).ravel() + 1 # gives index of the next time block\n",
    "cycle, phase = np.divmod((data['TIME']-tzero) * fapprox, 1) # spin angle of a specific point, seconds since tzero\n",
    "fig, ax = plt.subplots(nrows = 1, ncols = 1)\n",
    "print(len(phase), len(rate))\n",
    "print(phase)\n",
    "print(cycle) # how are these two different? quotient = cycle, remainder = phase... how?\n",
    "\n",
    "# plotting just the 1300s segment\n",
    "for i in range(4):\n",
    "    axes[0].plot(phase[1000*i:1000+1000*i], rate[1000*i:1000*i+1000], \".\") # rate = brightness\n",
    "    print(phase[1000*i])\n",
    "axes[0].set(xlabel=\"Phase (in cycles)\", ylabel=\"Rate (brightness)\")\n",
    "axes[0].set_title(f'{fapprox}')\n",
    "\n"
   ]
  },
  {
   "cell_type": "code",
   "execution_count": null,
   "id": "54af01fc-c1aa-4d21-8d54-4f1c5fe3bbfe",
   "metadata": {},
   "outputs": [],
   "source": []
  },
  {
   "cell_type": "code",
   "execution_count": null,
   "id": "53601951",
   "metadata": {},
   "outputs": [],
   "source": []
  },
  {
   "cell_type": "code",
   "execution_count": null,
   "id": "28131656",
   "metadata": {},
   "outputs": [],
   "source": []
  },
  {
   "cell_type": "code",
   "execution_count": null,
   "id": "70866ea9",
   "metadata": {},
   "outputs": [],
   "source": []
  },
  {
   "cell_type": "code",
   "execution_count": null,
   "id": "e3591559",
   "metadata": {},
   "outputs": [],
   "source": []
  }
 ],
 "metadata": {
  "kernelspec": {
   "display_name": "Python 3 (ipykernel)",
   "language": "python",
   "name": "python3"
  },
  "language_info": {
   "codemirror_mode": {
    "name": "ipython",
    "version": 3
   },
   "file_extension": ".py",
   "mimetype": "text/x-python",
   "name": "python",
   "nbconvert_exporter": "python",
   "pygments_lexer": "ipython3",
   "version": "3.11.4"
  },
  "widgets": {
   "application/vnd.jupyter.widget-state+json": {
    "state": {
     "0070d95bd3934558bd953cffe81cf59f": {
      "model_module": "@jupyter-widgets/base",
      "model_module_version": "2.0.0",
      "model_name": "LayoutModel",
      "state": {}
     },
     "00b695f3fee24428875b39f202da5cfb": {
      "model_module": "jupyter-matplotlib",
      "model_module_version": "^0.11",
      "model_name": "ToolbarModel",
      "state": {
       "_model_module_version": "^0.11",
       "_view_module_version": "^0.11",
       "collapsed": true,
       "layout": "IPY_MODEL_25bc8884f41e4b319a8b3ad4502c3f57",
       "orientation": "vertical",
       "toolitems": [
        [
         "Home",
         "Reset original view",
         "home",
         "home"
        ],
        [
         "Back",
         "Back to previous view",
         "arrow-left",
         "back"
        ],
        [
         "Forward",
         "Forward to next view",
         "arrow-right",
         "forward"
        ],
        [
         "Pan",
         "Left button pans, Right button zooms\nx/y fixes axis, CTRL fixes aspect",
         "arrows",
         "pan"
        ],
        [
         "Zoom",
         "Zoom to rectangle\nx/y fixes axis",
         "square-o",
         "zoom"
        ],
        [
         "Download",
         "Download plot",
         "floppy-o",
         "save_figure"
        ]
       ]
      }
     },
     "065d041ecc8b4ee788347f79d6fd746f": {
      "model_module": "@jupyter-widgets/base",
      "model_module_version": "2.0.0",
      "model_name": "LayoutModel",
      "state": {}
     },
     "06d052a7a8c64eb49d1cfa9f0600f0dd": {
      "model_module": "jupyter-matplotlib",
      "model_module_version": "^0.11",
      "model_name": "ToolbarModel",
      "state": {
       "_model_module_version": "^0.11",
       "_view_module_version": "^0.11",
       "collapsed": true,
       "layout": "IPY_MODEL_6ee06eb774484235a848a2af0a189db1",
       "orientation": "vertical",
       "toolitems": [
        [
         "Home",
         "Reset original view",
         "home",
         "home"
        ],
        [
         "Back",
         "Back to previous view",
         "arrow-left",
         "back"
        ],
        [
         "Forward",
         "Forward to next view",
         "arrow-right",
         "forward"
        ],
        [
         "Pan",
         "Left button pans, Right button zooms\nx/y fixes axis, CTRL fixes aspect",
         "arrows",
         "pan"
        ],
        [
         "Zoom",
         "Zoom to rectangle\nx/y fixes axis",
         "square-o",
         "zoom"
        ],
        [
         "Download",
         "Download plot",
         "floppy-o",
         "save_figure"
        ]
       ]
      }
     },
     "0815e902f7724cd6a843847561ca3afd": {
      "model_module": "@jupyter-widgets/base",
      "model_module_version": "2.0.0",
      "model_name": "LayoutModel",
      "state": {}
     },
     "0962e2d726694fe48a4d074b0676f5f8": {
      "model_module": "@jupyter-widgets/base",
      "model_module_version": "2.0.0",
      "model_name": "LayoutModel",
      "state": {}
     },
     "0b85a21fbf724e9c9b6f88890e794480": {
      "model_module": "@jupyter-widgets/base",
      "model_module_version": "2.0.0",
      "model_name": "LayoutModel",
      "state": {}
     },
     "0e8258919a9d4a769efe7016dfdfb300": {
      "model_module": "@jupyter-widgets/base",
      "model_module_version": "2.0.0",
      "model_name": "LayoutModel",
      "state": {}
     },
     "0f90e7d234e048b8b2282043139be03a": {
      "model_module": "@jupyter-widgets/base",
      "model_module_version": "2.0.0",
      "model_name": "LayoutModel",
      "state": {}
     },
     "10e85b1f450e49358bbd319309b56cf2": {
      "model_module": "@jupyter-widgets/base",
      "model_module_version": "2.0.0",
      "model_name": "LayoutModel",
      "state": {}
     },
     "146a975821014d468b39c219a9ccb607": {
      "model_module": "jupyter-matplotlib",
      "model_module_version": "^0.11",
      "model_name": "ToolbarModel",
      "state": {
       "_model_module_version": "^0.11",
       "_view_module_version": "^0.11",
       "collapsed": true,
       "layout": "IPY_MODEL_0070d95bd3934558bd953cffe81cf59f",
       "orientation": "vertical",
       "toolitems": [
        [
         "Home",
         "Reset original view",
         "home",
         "home"
        ],
        [
         "Back",
         "Back to previous view",
         "arrow-left",
         "back"
        ],
        [
         "Forward",
         "Forward to next view",
         "arrow-right",
         "forward"
        ],
        [
         "Pan",
         "Left button pans, Right button zooms\nx/y fixes axis, CTRL fixes aspect",
         "arrows",
         "pan"
        ],
        [
         "Zoom",
         "Zoom to rectangle\nx/y fixes axis",
         "square-o",
         "zoom"
        ],
        [
         "Download",
         "Download plot",
         "floppy-o",
         "save_figure"
        ]
       ]
      }
     },
     "16ea52bb82ea4046a26f50e2abb2de4c": {
      "model_module": "jupyter-matplotlib",
      "model_module_version": "^0.11",
      "model_name": "ToolbarModel",
      "state": {
       "_model_module_version": "^0.11",
       "_view_module_version": "^0.11",
       "collapsed": true,
       "layout": "IPY_MODEL_bb52cd4339e54e7ea1faf95a4bc19fae",
       "orientation": "vertical",
       "toolitems": [
        [
         "Home",
         "Reset original view",
         "home",
         "home"
        ],
        [
         "Back",
         "Back to previous view",
         "arrow-left",
         "back"
        ],
        [
         "Forward",
         "Forward to next view",
         "arrow-right",
         "forward"
        ],
        [
         "Pan",
         "Left button pans, Right button zooms\nx/y fixes axis, CTRL fixes aspect",
         "arrows",
         "pan"
        ],
        [
         "Zoom",
         "Zoom to rectangle\nx/y fixes axis",
         "square-o",
         "zoom"
        ],
        [
         "Download",
         "Download plot",
         "floppy-o",
         "save_figure"
        ]
       ]
      }
     },
     "186c3370d54e4bce900c4c95844e37b5": {
      "model_module": "jupyter-matplotlib",
      "model_module_version": "^0.11",
      "model_name": "ToolbarModel",
      "state": {
       "_model_module_version": "^0.11",
       "_view_module_version": "^0.11",
       "collapsed": true,
       "layout": "IPY_MODEL_2439387d30d64f57ac89ec67693692e9",
       "orientation": "vertical",
       "toolitems": [
        [
         "Home",
         "Reset original view",
         "home",
         "home"
        ],
        [
         "Back",
         "Back to previous view",
         "arrow-left",
         "back"
        ],
        [
         "Forward",
         "Forward to next view",
         "arrow-right",
         "forward"
        ],
        [
         "Pan",
         "Left button pans, Right button zooms\nx/y fixes axis, CTRL fixes aspect",
         "arrows",
         "pan"
        ],
        [
         "Zoom",
         "Zoom to rectangle\nx/y fixes axis",
         "square-o",
         "zoom"
        ],
        [
         "Download",
         "Download plot",
         "floppy-o",
         "save_figure"
        ]
       ]
      }
     },
     "1ae108d99d4842cf9030d9cc0af9e006": {
      "model_module": "jupyter-matplotlib",
      "model_module_version": "^0.11",
      "model_name": "ToolbarModel",
      "state": {
       "_model_module_version": "^0.11",
       "_view_module_version": "^0.11",
       "collapsed": true,
       "layout": "IPY_MODEL_c84150e1c15441aaa5e8eb774378fa03",
       "orientation": "vertical",
       "toolitems": [
        [
         "Home",
         "Reset original view",
         "home",
         "home"
        ],
        [
         "Back",
         "Back to previous view",
         "arrow-left",
         "back"
        ],
        [
         "Forward",
         "Forward to next view",
         "arrow-right",
         "forward"
        ],
        [
         "Pan",
         "Left button pans, Right button zooms\nx/y fixes axis, CTRL fixes aspect",
         "arrows",
         "pan"
        ],
        [
         "Zoom",
         "Zoom to rectangle\nx/y fixes axis",
         "square-o",
         "zoom"
        ],
        [
         "Download",
         "Download plot",
         "floppy-o",
         "save_figure"
        ]
       ]
      }
     },
     "1b277eb16bcd4cf8bb805f60e75efe39": {
      "model_module": "@jupyter-widgets/base",
      "model_module_version": "2.0.0",
      "model_name": "LayoutModel",
      "state": {}
     },
     "1cfe1fca1f9049a7ba046586503c8a3c": {
      "model_module": "@jupyter-widgets/base",
      "model_module_version": "2.0.0",
      "model_name": "LayoutModel",
      "state": {}
     },
     "2135c769cb6e4cce8900f0a54b82b336": {
      "model_module": "jupyter-matplotlib",
      "model_module_version": "^0.11",
      "model_name": "ToolbarModel",
      "state": {
       "_model_module_version": "^0.11",
       "_view_module_version": "^0.11",
       "collapsed": true,
       "layout": "IPY_MODEL_32ae749947bd47fc8efc56af5bc56831",
       "orientation": "vertical",
       "toolitems": [
        [
         "Home",
         "Reset original view",
         "home",
         "home"
        ],
        [
         "Back",
         "Back to previous view",
         "arrow-left",
         "back"
        ],
        [
         "Forward",
         "Forward to next view",
         "arrow-right",
         "forward"
        ],
        [
         "Pan",
         "Left button pans, Right button zooms\nx/y fixes axis, CTRL fixes aspect",
         "arrows",
         "pan"
        ],
        [
         "Zoom",
         "Zoom to rectangle\nx/y fixes axis",
         "square-o",
         "zoom"
        ],
        [
         "Download",
         "Download plot",
         "floppy-o",
         "save_figure"
        ]
       ]
      }
     },
     "23d138afc2cb4eb98525afb9ef9189f7": {
      "model_module": "jupyter-matplotlib",
      "model_module_version": "^0.11",
      "model_name": "ToolbarModel",
      "state": {
       "_model_module_version": "^0.11",
       "_view_module_version": "^0.11",
       "collapsed": true,
       "layout": "IPY_MODEL_b7ba9be2b3044d50ac8059ee4c53df1f",
       "orientation": "vertical",
       "toolitems": [
        [
         "Home",
         "Reset original view",
         "home",
         "home"
        ],
        [
         "Back",
         "Back to previous view",
         "arrow-left",
         "back"
        ],
        [
         "Forward",
         "Forward to next view",
         "arrow-right",
         "forward"
        ],
        [
         "Pan",
         "Left button pans, Right button zooms\nx/y fixes axis, CTRL fixes aspect",
         "arrows",
         "pan"
        ],
        [
         "Zoom",
         "Zoom to rectangle\nx/y fixes axis",
         "square-o",
         "zoom"
        ],
        [
         "Download",
         "Download plot",
         "floppy-o",
         "save_figure"
        ]
       ]
      }
     },
     "2439387d30d64f57ac89ec67693692e9": {
      "model_module": "@jupyter-widgets/base",
      "model_module_version": "2.0.0",
      "model_name": "LayoutModel",
      "state": {}
     },
     "245be1eb3a1f4734ab433d18392ba940": {
      "model_module": "@jupyter-widgets/base",
      "model_module_version": "2.0.0",
      "model_name": "LayoutModel",
      "state": {}
     },
     "25bc8884f41e4b319a8b3ad4502c3f57": {
      "model_module": "@jupyter-widgets/base",
      "model_module_version": "2.0.0",
      "model_name": "LayoutModel",
      "state": {}
     },
     "29952ca68d404ff0a7fc0d1dfa4beb24": {
      "model_module": "@jupyter-widgets/base",
      "model_module_version": "2.0.0",
      "model_name": "LayoutModel",
      "state": {}
     },
     "2a96da40a9d8400dbe523cccccfca2ad": {
      "model_module": "@jupyter-widgets/base",
      "model_module_version": "2.0.0",
      "model_name": "LayoutModel",
      "state": {}
     },
     "2acd23495d6c45cfb7ab3f0888c7686e": {
      "model_module": "@jupyter-widgets/base",
      "model_module_version": "2.0.0",
      "model_name": "LayoutModel",
      "state": {}
     },
     "2b232b1c3a504dfa8e5e63992113b349": {
      "model_module": "@jupyter-widgets/base",
      "model_module_version": "2.0.0",
      "model_name": "LayoutModel",
      "state": {}
     },
     "2c4867bb52bf4c9180a64a89ff2b9e9f": {
      "model_module": "@jupyter-widgets/base",
      "model_module_version": "2.0.0",
      "model_name": "LayoutModel",
      "state": {}
     },
     "2d763ceef43944bdb3010234cb0e98b6": {
      "model_module": "jupyter-matplotlib",
      "model_module_version": "^0.11",
      "model_name": "ToolbarModel",
      "state": {
       "_model_module_version": "^0.11",
       "_view_module_version": "^0.11",
       "collapsed": true,
       "layout": "IPY_MODEL_c04c38e46a7e44349e56ebc058dac242",
       "orientation": "vertical",
       "toolitems": [
        [
         "Home",
         "Reset original view",
         "home",
         "home"
        ],
        [
         "Back",
         "Back to previous view",
         "arrow-left",
         "back"
        ],
        [
         "Forward",
         "Forward to next view",
         "arrow-right",
         "forward"
        ],
        [
         "Pan",
         "Left button pans, Right button zooms\nx/y fixes axis, CTRL fixes aspect",
         "arrows",
         "pan"
        ],
        [
         "Zoom",
         "Zoom to rectangle\nx/y fixes axis",
         "square-o",
         "zoom"
        ],
        [
         "Download",
         "Download plot",
         "floppy-o",
         "save_figure"
        ]
       ]
      }
     },
     "2eaba70279da44fa99c9f05789f401a5": {
      "model_module": "jupyter-matplotlib",
      "model_module_version": "^0.11",
      "model_name": "ToolbarModel",
      "state": {
       "_model_module_version": "^0.11",
       "_view_module_version": "^0.11",
       "collapsed": true,
       "layout": "IPY_MODEL_74c7a8038fba44d689b725d8f9e712b5",
       "orientation": "vertical",
       "toolitems": [
        [
         "Home",
         "Reset original view",
         "home",
         "home"
        ],
        [
         "Back",
         "Back to previous view",
         "arrow-left",
         "back"
        ],
        [
         "Forward",
         "Forward to next view",
         "arrow-right",
         "forward"
        ],
        [
         "Pan",
         "Left button pans, Right button zooms\nx/y fixes axis, CTRL fixes aspect",
         "arrows",
         "pan"
        ],
        [
         "Zoom",
         "Zoom to rectangle\nx/y fixes axis",
         "square-o",
         "zoom"
        ],
        [
         "Download",
         "Download plot",
         "floppy-o",
         "save_figure"
        ]
       ]
      }
     },
     "303f9ea69b12422fba1d3cf42ad653b1": {
      "model_module": "@jupyter-widgets/base",
      "model_module_version": "2.0.0",
      "model_name": "LayoutModel",
      "state": {}
     },
     "32ae749947bd47fc8efc56af5bc56831": {
      "model_module": "@jupyter-widgets/base",
      "model_module_version": "2.0.0",
      "model_name": "LayoutModel",
      "state": {}
     },
     "37246eb921c148c5ac8e00bcd3acb544": {
      "model_module": "jupyter-matplotlib",
      "model_module_version": "^0.11",
      "model_name": "ToolbarModel",
      "state": {
       "_model_module_version": "^0.11",
       "_view_module_version": "^0.11",
       "collapsed": true,
       "layout": "IPY_MODEL_0f90e7d234e048b8b2282043139be03a",
       "orientation": "vertical",
       "toolitems": [
        [
         "Home",
         "Reset original view",
         "home",
         "home"
        ],
        [
         "Back",
         "Back to previous view",
         "arrow-left",
         "back"
        ],
        [
         "Forward",
         "Forward to next view",
         "arrow-right",
         "forward"
        ],
        [
         "Pan",
         "Left button pans, Right button zooms\nx/y fixes axis, CTRL fixes aspect",
         "arrows",
         "pan"
        ],
        [
         "Zoom",
         "Zoom to rectangle\nx/y fixes axis",
         "square-o",
         "zoom"
        ],
        [
         "Download",
         "Download plot",
         "floppy-o",
         "save_figure"
        ]
       ]
      }
     },
     "385e3cb8d82b4bfbb9fd20812b01a18c": {
      "model_module": "jupyter-matplotlib",
      "model_module_version": "^0.11",
      "model_name": "ToolbarModel",
      "state": {
       "_model_module_version": "^0.11",
       "_view_module_version": "^0.11",
       "collapsed": true,
       "layout": "IPY_MODEL_9b6b3d3896b34257b9dc7ff4df0724bf",
       "orientation": "vertical",
       "toolitems": [
        [
         "Home",
         "Reset original view",
         "home",
         "home"
        ],
        [
         "Back",
         "Back to previous view",
         "arrow-left",
         "back"
        ],
        [
         "Forward",
         "Forward to next view",
         "arrow-right",
         "forward"
        ],
        [
         "Pan",
         "Left button pans, Right button zooms\nx/y fixes axis, CTRL fixes aspect",
         "arrows",
         "pan"
        ],
        [
         "Zoom",
         "Zoom to rectangle\nx/y fixes axis",
         "square-o",
         "zoom"
        ],
        [
         "Download",
         "Download plot",
         "floppy-o",
         "save_figure"
        ]
       ]
      }
     },
     "3cc748aa5ef24ce1b78ce30a3eca6b57": {
      "model_module": "@jupyter-widgets/base",
      "model_module_version": "2.0.0",
      "model_name": "LayoutModel",
      "state": {}
     },
     "3eb2473f26f0487a93c55bd8b44bb0ae": {
      "model_module": "@jupyter-widgets/base",
      "model_module_version": "2.0.0",
      "model_name": "LayoutModel",
      "state": {}
     },
     "41cd9746f0f54ab3a0481d59d51405fc": {
      "model_module": "jupyter-matplotlib",
      "model_module_version": "^0.11",
      "model_name": "ToolbarModel",
      "state": {
       "_model_module_version": "^0.11",
       "_view_module_version": "^0.11",
       "collapsed": true,
       "layout": "IPY_MODEL_6ba30c564fa44ba898e37483f91702ac",
       "orientation": "vertical",
       "toolitems": [
        [
         "Home",
         "Reset original view",
         "home",
         "home"
        ],
        [
         "Back",
         "Back to previous view",
         "arrow-left",
         "back"
        ],
        [
         "Forward",
         "Forward to next view",
         "arrow-right",
         "forward"
        ],
        [
         "Pan",
         "Left button pans, Right button zooms\nx/y fixes axis, CTRL fixes aspect",
         "arrows",
         "pan"
        ],
        [
         "Zoom",
         "Zoom to rectangle\nx/y fixes axis",
         "square-o",
         "zoom"
        ],
        [
         "Download",
         "Download plot",
         "floppy-o",
         "save_figure"
        ]
       ]
      }
     },
     "44772afdd4d247b29920daf2c3d0cb38": {
      "model_module": "jupyter-matplotlib",
      "model_module_version": "^0.11",
      "model_name": "ToolbarModel",
      "state": {
       "_model_module_version": "^0.11",
       "_view_module_version": "^0.11",
       "collapsed": true,
       "layout": "IPY_MODEL_303f9ea69b12422fba1d3cf42ad653b1",
       "orientation": "vertical",
       "toolitems": [
        [
         "Home",
         "Reset original view",
         "home",
         "home"
        ],
        [
         "Back",
         "Back to previous view",
         "arrow-left",
         "back"
        ],
        [
         "Forward",
         "Forward to next view",
         "arrow-right",
         "forward"
        ],
        [
         "Pan",
         "Left button pans, Right button zooms\nx/y fixes axis, CTRL fixes aspect",
         "arrows",
         "pan"
        ],
        [
         "Zoom",
         "Zoom to rectangle\nx/y fixes axis",
         "square-o",
         "zoom"
        ],
        [
         "Download",
         "Download plot",
         "floppy-o",
         "save_figure"
        ]
       ]
      }
     },
     "45f03cd1dca740ba886b6631f31ec003": {
      "model_module": "@jupyter-widgets/base",
      "model_module_version": "2.0.0",
      "model_name": "LayoutModel",
      "state": {}
     },
     "4ba510a14637422cbf237797e742de6b": {
      "model_module": "@jupyter-widgets/base",
      "model_module_version": "2.0.0",
      "model_name": "LayoutModel",
      "state": {}
     },
     "4e29a25d0e26434ba2202c432267e771": {
      "model_module": "jupyter-matplotlib",
      "model_module_version": "^0.11",
      "model_name": "MPLCanvasModel",
      "state": {
       "_data_url": "data:image/png;base64,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",
       "_model_module_version": "^0.11",
       "_size": [
        640,
        480
       ],
       "_view_module_version": "^0.11",
       "layout": "IPY_MODEL_3cc748aa5ef24ce1b78ce30a3eca6b57",
       "toolbar": "IPY_MODEL_acc0f6985ed047d5a128d10c7490f7c0",
       "toolbar_position": "left"
      }
     },
     "4faf541d503e4134a5ead529182de401": {
      "model_module": "@jupyter-widgets/base",
      "model_module_version": "2.0.0",
      "model_name": "LayoutModel",
      "state": {}
     },
     "51d19d109af64e5493995b74749bde09": {
      "model_module": "jupyter-matplotlib",
      "model_module_version": "^0.11",
      "model_name": "ToolbarModel",
      "state": {
       "_model_module_version": "^0.11",
       "_view_module_version": "^0.11",
       "collapsed": true,
       "layout": "IPY_MODEL_963e1dc953154e52938300002d621939",
       "orientation": "vertical",
       "toolitems": [
        [
         "Home",
         "Reset original view",
         "home",
         "home"
        ],
        [
         "Back",
         "Back to previous view",
         "arrow-left",
         "back"
        ],
        [
         "Forward",
         "Forward to next view",
         "arrow-right",
         "forward"
        ],
        [
         "Pan",
         "Left button pans, Right button zooms\nx/y fixes axis, CTRL fixes aspect",
         "arrows",
         "pan"
        ],
        [
         "Zoom",
         "Zoom to rectangle\nx/y fixes axis",
         "square-o",
         "zoom"
        ],
        [
         "Download",
         "Download plot",
         "floppy-o",
         "save_figure"
        ]
       ]
      }
     },
     "52780412249c4ffc85d4fe0b16b4557d": {
      "model_module": "@jupyter-widgets/base",
      "model_module_version": "2.0.0",
      "model_name": "LayoutModel",
      "state": {}
     },
     "57f5c03fad154d929bb8deae5ed08011": {
      "model_module": "jupyter-matplotlib",
      "model_module_version": "^0.11",
      "model_name": "ToolbarModel",
      "state": {
       "_model_module_version": "^0.11",
       "_view_module_version": "^0.11",
       "collapsed": true,
       "layout": "IPY_MODEL_ee8de8bb096f4b1fa7fad1fdfa8d86e0",
       "orientation": "vertical",
       "toolitems": [
        [
         "Home",
         "Reset original view",
         "home",
         "home"
        ],
        [
         "Back",
         "Back to previous view",
         "arrow-left",
         "back"
        ],
        [
         "Forward",
         "Forward to next view",
         "arrow-right",
         "forward"
        ],
        [
         "Pan",
         "Left button pans, Right button zooms\nx/y fixes axis, CTRL fixes aspect",
         "arrows",
         "pan"
        ],
        [
         "Zoom",
         "Zoom to rectangle\nx/y fixes axis",
         "square-o",
         "zoom"
        ],
        [
         "Download",
         "Download plot",
         "floppy-o",
         "save_figure"
        ]
       ]
      }
     },
     "5952bb0be359424da950517c34bd2409": {
      "model_module": "@jupyter-widgets/base",
      "model_module_version": "2.0.0",
      "model_name": "LayoutModel",
      "state": {}
     },
     "5a74256e9f9841b9afa28bf1bcca305b": {
      "model_module": "@jupyter-widgets/base",
      "model_module_version": "2.0.0",
      "model_name": "LayoutModel",
      "state": {}
     },
     "5b9d0385e5464a4e8a040983841b76fc": {
      "model_module": "@jupyter-widgets/base",
      "model_module_version": "2.0.0",
      "model_name": "LayoutModel",
      "state": {}
     },
     "5cbeaae29bad4afda8b7ef0f0cb2569d": {
      "model_module": "@jupyter-widgets/base",
      "model_module_version": "2.0.0",
      "model_name": "LayoutModel",
      "state": {}
     },
     "5d9d5f7416e84befa0c92ff9629758f9": {
      "model_module": "jupyter-matplotlib",
      "model_module_version": "^0.11",
      "model_name": "ToolbarModel",
      "state": {
       "_model_module_version": "^0.11",
       "_view_module_version": "^0.11",
       "collapsed": true,
       "layout": "IPY_MODEL_29952ca68d404ff0a7fc0d1dfa4beb24",
       "orientation": "vertical",
       "toolitems": [
        [
         "Home",
         "Reset original view",
         "home",
         "home"
        ],
        [
         "Back",
         "Back to previous view",
         "arrow-left",
         "back"
        ],
        [
         "Forward",
         "Forward to next view",
         "arrow-right",
         "forward"
        ],
        [
         "Pan",
         "Left button pans, Right button zooms\nx/y fixes axis, CTRL fixes aspect",
         "arrows",
         "pan"
        ],
        [
         "Zoom",
         "Zoom to rectangle\nx/y fixes axis",
         "square-o",
         "zoom"
        ],
        [
         "Download",
         "Download plot",
         "floppy-o",
         "save_figure"
        ]
       ]
      }
     },
     "5e263139c7e2448db11b1a0707a1d26d": {
      "model_module": "jupyter-matplotlib",
      "model_module_version": "^0.11",
      "model_name": "ToolbarModel",
      "state": {
       "_model_module_version": "^0.11",
       "_view_module_version": "^0.11",
       "collapsed": true,
       "layout": "IPY_MODEL_5952bb0be359424da950517c34bd2409",
       "orientation": "vertical",
       "toolitems": [
        [
         "Home",
         "Reset original view",
         "home",
         "home"
        ],
        [
         "Back",
         "Back to previous view",
         "arrow-left",
         "back"
        ],
        [
         "Forward",
         "Forward to next view",
         "arrow-right",
         "forward"
        ],
        [
         "Pan",
         "Left button pans, Right button zooms\nx/y fixes axis, CTRL fixes aspect",
         "arrows",
         "pan"
        ],
        [
         "Zoom",
         "Zoom to rectangle\nx/y fixes axis",
         "square-o",
         "zoom"
        ],
        [
         "Download",
         "Download plot",
         "floppy-o",
         "save_figure"
        ]
       ]
      }
     },
     "5eb630cc57cd452a80691149a2cce06f": {
      "model_module": "@jupyter-widgets/base",
      "model_module_version": "2.0.0",
      "model_name": "LayoutModel",
      "state": {}
     },
     "60c3cdb9069c4d529e1bbfbf238e22f4": {
      "model_module": "jupyter-matplotlib",
      "model_module_version": "^0.11",
      "model_name": "ToolbarModel",
      "state": {
       "_model_module_version": "^0.11",
       "_view_module_version": "^0.11",
       "collapsed": true,
       "layout": "IPY_MODEL_abe8e3ed31f644d1b00fd73ca0783e3d",
       "orientation": "vertical",
       "toolitems": [
        [
         "Home",
         "Reset original view",
         "home",
         "home"
        ],
        [
         "Back",
         "Back to previous view",
         "arrow-left",
         "back"
        ],
        [
         "Forward",
         "Forward to next view",
         "arrow-right",
         "forward"
        ],
        [
         "Pan",
         "Left button pans, Right button zooms\nx/y fixes axis, CTRL fixes aspect",
         "arrows",
         "pan"
        ],
        [
         "Zoom",
         "Zoom to rectangle\nx/y fixes axis",
         "square-o",
         "zoom"
        ],
        [
         "Download",
         "Download plot",
         "floppy-o",
         "save_figure"
        ]
       ]
      }
     },
     "651808a61cff4d7c959f358962f866a2": {
      "model_module": "@jupyter-widgets/base",
      "model_module_version": "2.0.0",
      "model_name": "LayoutModel",
      "state": {}
     },
     "659a33b0978f4c4ea12167c214c0f30f": {
      "model_module": "jupyter-matplotlib",
      "model_module_version": "^0.11",
      "model_name": "MPLCanvasModel",
      "state": {
       "_data_url": "data:image/png;base64,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",
       "_model_module_version": "^0.11",
       "_size": [
        640,
        480
       ],
       "_view_module_version": "^0.11",
       "layout": "IPY_MODEL_9054cd0b75bf4970acd3a598ab266b34",
       "toolbar": "IPY_MODEL_44772afdd4d247b29920daf2c3d0cb38",
       "toolbar_position": "left"
      }
     },
     "69551aa843ed41bcaa4fc0a2a69a3112": {
      "model_module": "@jupyter-widgets/base",
      "model_module_version": "2.0.0",
      "model_name": "LayoutModel",
      "state": {}
     },
     "6b68100ff2d543abb77eb1ca8ffc6d29": {
      "model_module": "@jupyter-widgets/base",
      "model_module_version": "2.0.0",
      "model_name": "LayoutModel",
      "state": {}
     },
     "6ba30c564fa44ba898e37483f91702ac": {
      "model_module": "@jupyter-widgets/base",
      "model_module_version": "2.0.0",
      "model_name": "LayoutModel",
      "state": {}
     },
     "6e57709520e34abab566759397fd483a": {
      "model_module": "@jupyter-widgets/base",
      "model_module_version": "2.0.0",
      "model_name": "LayoutModel",
      "state": {}
     },
     "6e830d9a8bf7452799bb7240bb812d16": {
      "model_module": "jupyter-matplotlib",
      "model_module_version": "^0.11",
      "model_name": "ToolbarModel",
      "state": {
       "_model_module_version": "^0.11",
       "_view_module_version": "^0.11",
       "collapsed": true,
       "layout": "IPY_MODEL_ee19405fb7074c0bad0920ea6a61dc2f",
       "orientation": "vertical",
       "toolitems": [
        [
         "Home",
         "Reset original view",
         "home",
         "home"
        ],
        [
         "Back",
         "Back to previous view",
         "arrow-left",
         "back"
        ],
        [
         "Forward",
         "Forward to next view",
         "arrow-right",
         "forward"
        ],
        [
         "Pan",
         "Left button pans, Right button zooms\nx/y fixes axis, CTRL fixes aspect",
         "arrows",
         "pan"
        ],
        [
         "Zoom",
         "Zoom to rectangle\nx/y fixes axis",
         "square-o",
         "zoom"
        ],
        [
         "Download",
         "Download plot",
         "floppy-o",
         "save_figure"
        ]
       ]
      }
     },
     "6eceaa250840401ba5c90360a5bf2ea6": {
      "model_module": "@jupyter-widgets/base",
      "model_module_version": "2.0.0",
      "model_name": "LayoutModel",
      "state": {}
     },
     "6ee06eb774484235a848a2af0a189db1": {
      "model_module": "@jupyter-widgets/base",
      "model_module_version": "2.0.0",
      "model_name": "LayoutModel",
      "state": {}
     },
     "72bfd834a4d04cf991d586af22c969a1": {
      "model_module": "@jupyter-widgets/base",
      "model_module_version": "2.0.0",
      "model_name": "LayoutModel",
      "state": {}
     },
     "74c7a8038fba44d689b725d8f9e712b5": {
      "model_module": "@jupyter-widgets/base",
      "model_module_version": "2.0.0",
      "model_name": "LayoutModel",
      "state": {}
     },
     "765406d8b9cf44f3a7ea4720e7c212db": {
      "model_module": "jupyter-matplotlib",
      "model_module_version": "^0.11",
      "model_name": "ToolbarModel",
      "state": {
       "_model_module_version": "^0.11",
       "_view_module_version": "^0.11",
       "collapsed": true,
       "layout": "IPY_MODEL_5a74256e9f9841b9afa28bf1bcca305b",
       "orientation": "vertical",
       "toolitems": [
        [
         "Home",
         "Reset original view",
         "home",
         "home"
        ],
        [
         "Back",
         "Back to previous view",
         "arrow-left",
         "back"
        ],
        [
         "Forward",
         "Forward to next view",
         "arrow-right",
         "forward"
        ],
        [
         "Pan",
         "Left button pans, Right button zooms\nx/y fixes axis, CTRL fixes aspect",
         "arrows",
         "pan"
        ],
        [
         "Zoom",
         "Zoom to rectangle\nx/y fixes axis",
         "square-o",
         "zoom"
        ],
        [
         "Download",
         "Download plot",
         "floppy-o",
         "save_figure"
        ]
       ]
      }
     },
     "79e04dc0ee2240989122c730c0e0e381": {
      "model_module": "@jupyter-widgets/base",
      "model_module_version": "2.0.0",
      "model_name": "LayoutModel",
      "state": {}
     },
     "7c3f4f5d79e044e2b781237db49172b1": {
      "model_module": "jupyter-matplotlib",
      "model_module_version": "^0.11",
      "model_name": "ToolbarModel",
      "state": {
       "_model_module_version": "^0.11",
       "_view_module_version": "^0.11",
       "collapsed": true,
       "layout": "IPY_MODEL_b9a0f06ba45a4731af483b8fec56b3e0",
       "orientation": "vertical",
       "toolitems": [
        [
         "Home",
         "Reset original view",
         "home",
         "home"
        ],
        [
         "Back",
         "Back to previous view",
         "arrow-left",
         "back"
        ],
        [
         "Forward",
         "Forward to next view",
         "arrow-right",
         "forward"
        ],
        [
         "Pan",
         "Left button pans, Right button zooms\nx/y fixes axis, CTRL fixes aspect",
         "arrows",
         "pan"
        ],
        [
         "Zoom",
         "Zoom to rectangle\nx/y fixes axis",
         "square-o",
         "zoom"
        ],
        [
         "Download",
         "Download plot",
         "floppy-o",
         "save_figure"
        ]
       ]
      }
     },
     "7d924f481a0b4c0095f0c5894a0ae40d": {
      "model_module": "@jupyter-widgets/base",
      "model_module_version": "2.0.0",
      "model_name": "LayoutModel",
      "state": {}
     },
     "8114d4a2e36b411b991a520f26008784": {
      "model_module": "jupyter-matplotlib",
      "model_module_version": "^0.11",
      "model_name": "MPLCanvasModel",
      "state": {
       "_data_url": "data:image/png;base64,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",
       "_model_module_version": "^0.11",
       "_size": [
        640,
        480
       ],
       "_view_module_version": "^0.11",
       "layout": "IPY_MODEL_98d0d176e0fb4a41884edd2dfcd4a9a1",
       "toolbar": "IPY_MODEL_00b695f3fee24428875b39f202da5cfb",
       "toolbar_position": "left"
      }
     },
     "8146762bc19248ee80263603ebecf61f": {
      "model_module": "@jupyter-widgets/base",
      "model_module_version": "2.0.0",
      "model_name": "LayoutModel",
      "state": {}
     },
     "84b308a52b9f451c9a66b87fc1d89a94": {
      "model_module": "jupyter-matplotlib",
      "model_module_version": "^0.11",
      "model_name": "ToolbarModel",
      "state": {
       "_model_module_version": "^0.11",
       "_view_module_version": "^0.11",
       "collapsed": true,
       "layout": "IPY_MODEL_c4db6f4124914804ade21c25f11ff222",
       "orientation": "vertical",
       "toolitems": [
        [
         "Home",
         "Reset original view",
         "home",
         "home"
        ],
        [
         "Back",
         "Back to previous view",
         "arrow-left",
         "back"
        ],
        [
         "Forward",
         "Forward to next view",
         "arrow-right",
         "forward"
        ],
        [
         "Pan",
         "Left button pans, Right button zooms\nx/y fixes axis, CTRL fixes aspect",
         "arrows",
         "pan"
        ],
        [
         "Zoom",
         "Zoom to rectangle\nx/y fixes axis",
         "square-o",
         "zoom"
        ],
        [
         "Download",
         "Download plot",
         "floppy-o",
         "save_figure"
        ]
       ]
      }
     },
     "8b8570eea2e542c4964544fa46c74bcf": {
      "model_module": "@jupyter-widgets/base",
      "model_module_version": "2.0.0",
      "model_name": "LayoutModel",
      "state": {}
     },
     "8ce6f511feaf4a979d667f38c6c37917": {
      "model_module": "@jupyter-widgets/base",
      "model_module_version": "2.0.0",
      "model_name": "LayoutModel",
      "state": {}
     },
     "8da8ab6ee7a442789176537e6508fd18": {
      "model_module": "@jupyter-widgets/base",
      "model_module_version": "2.0.0",
      "model_name": "LayoutModel",
      "state": {}
     },
     "9054cd0b75bf4970acd3a598ab266b34": {
      "model_module": "@jupyter-widgets/base",
      "model_module_version": "2.0.0",
      "model_name": "LayoutModel",
      "state": {}
     },
     "93824c392f5f488cb917269b7d509d19": {
      "model_module": "jupyter-matplotlib",
      "model_module_version": "^0.11",
      "model_name": "ToolbarModel",
      "state": {
       "_model_module_version": "^0.11",
       "_view_module_version": "^0.11",
       "collapsed": true,
       "layout": "IPY_MODEL_10e85b1f450e49358bbd319309b56cf2",
       "orientation": "vertical",
       "toolitems": [
        [
         "Home",
         "Reset original view",
         "home",
         "home"
        ],
        [
         "Back",
         "Back to previous view",
         "arrow-left",
         "back"
        ],
        [
         "Forward",
         "Forward to next view",
         "arrow-right",
         "forward"
        ],
        [
         "Pan",
         "Left button pans, Right button zooms\nx/y fixes axis, CTRL fixes aspect",
         "arrows",
         "pan"
        ],
        [
         "Zoom",
         "Zoom to rectangle\nx/y fixes axis",
         "square-o",
         "zoom"
        ],
        [
         "Download",
         "Download plot",
         "floppy-o",
         "save_figure"
        ]
       ]
      }
     },
     "9452bb10fa2248979219afb20baa3b76": {
      "model_module": "@jupyter-widgets/base",
      "model_module_version": "2.0.0",
      "model_name": "LayoutModel",
      "state": {}
     },
     "963e1dc953154e52938300002d621939": {
      "model_module": "@jupyter-widgets/base",
      "model_module_version": "2.0.0",
      "model_name": "LayoutModel",
      "state": {}
     },
     "97d9c665659c4bd88df4ad8e8ae3cbbb": {
      "model_module": "@jupyter-widgets/base",
      "model_module_version": "2.0.0",
      "model_name": "LayoutModel",
      "state": {}
     },
     "98d0d176e0fb4a41884edd2dfcd4a9a1": {
      "model_module": "@jupyter-widgets/base",
      "model_module_version": "2.0.0",
      "model_name": "LayoutModel",
      "state": {}
     },
     "997d8c4d28cc4af783b7586f8ed0a1fc": {
      "model_module": "@jupyter-widgets/base",
      "model_module_version": "2.0.0",
      "model_name": "LayoutModel",
      "state": {}
     },
     "9b6b3d3896b34257b9dc7ff4df0724bf": {
      "model_module": "@jupyter-widgets/base",
      "model_module_version": "2.0.0",
      "model_name": "LayoutModel",
      "state": {}
     },
     "a00dae9da10d4f40ac0fd553463bb176": {
      "model_module": "jupyter-matplotlib",
      "model_module_version": "^0.11",
      "model_name": "ToolbarModel",
      "state": {
       "_model_module_version": "^0.11",
       "_view_module_version": "^0.11",
       "collapsed": true,
       "layout": "IPY_MODEL_45f03cd1dca740ba886b6631f31ec003",
       "orientation": "vertical",
       "toolitems": [
        [
         "Home",
         "Reset original view",
         "home",
         "home"
        ],
        [
         "Back",
         "Back to previous view",
         "arrow-left",
         "back"
        ],
        [
         "Forward",
         "Forward to next view",
         "arrow-right",
         "forward"
        ],
        [
         "Pan",
         "Left button pans, Right button zooms\nx/y fixes axis, CTRL fixes aspect",
         "arrows",
         "pan"
        ],
        [
         "Zoom",
         "Zoom to rectangle\nx/y fixes axis",
         "square-o",
         "zoom"
        ],
        [
         "Download",
         "Download plot",
         "floppy-o",
         "save_figure"
        ]
       ]
      }
     },
     "a125e63cbf844a9cb3e4d5dde2da1e41": {
      "model_module": "@jupyter-widgets/base",
      "model_module_version": "2.0.0",
      "model_name": "LayoutModel",
      "state": {}
     },
     "a21362e767ad4e10bbc8150fcf6ceb2b": {
      "model_module": "jupyter-matplotlib",
      "model_module_version": "^0.11",
      "model_name": "ToolbarModel",
      "state": {
       "_model_module_version": "^0.11",
       "_view_module_version": "^0.11",
       "collapsed": true,
       "layout": "IPY_MODEL_2c4867bb52bf4c9180a64a89ff2b9e9f",
       "orientation": "vertical",
       "toolitems": [
        [
         "Home",
         "Reset original view",
         "home",
         "home"
        ],
        [
         "Back",
         "Back to previous view",
         "arrow-left",
         "back"
        ],
        [
         "Forward",
         "Forward to next view",
         "arrow-right",
         "forward"
        ],
        [
         "Pan",
         "Left button pans, Right button zooms\nx/y fixes axis, CTRL fixes aspect",
         "arrows",
         "pan"
        ],
        [
         "Zoom",
         "Zoom to rectangle\nx/y fixes axis",
         "square-o",
         "zoom"
        ],
        [
         "Download",
         "Download plot",
         "floppy-o",
         "save_figure"
        ]
       ]
      }
     },
     "a2441f3e83d14e6099f6b7503c9ea52d": {
      "model_module": "@jupyter-widgets/base",
      "model_module_version": "2.0.0",
      "model_name": "LayoutModel",
      "state": {}
     },
     "a47a57df62ca42c18f5cd950fec4da94": {
      "model_module": "@jupyter-widgets/base",
      "model_module_version": "2.0.0",
      "model_name": "LayoutModel",
      "state": {}
     },
     "a5b941b927b241978b163f389cd2ae90": {
      "model_module": "@jupyter-widgets/base",
      "model_module_version": "2.0.0",
      "model_name": "LayoutModel",
      "state": {}
     },
     "a6efa458f989421bb91559c8fd290198": {
      "model_module": "@jupyter-widgets/base",
      "model_module_version": "2.0.0",
      "model_name": "LayoutModel",
      "state": {}
     },
     "a8dd5af811d546c18a95a9d19cdce016": {
      "model_module": "@jupyter-widgets/base",
      "model_module_version": "2.0.0",
      "model_name": "LayoutModel",
      "state": {}
     },
     "abc748f30e6342528e2c745022198439": {
      "model_module": "@jupyter-widgets/base",
      "model_module_version": "2.0.0",
      "model_name": "LayoutModel",
      "state": {}
     },
     "abe8e3ed31f644d1b00fd73ca0783e3d": {
      "model_module": "@jupyter-widgets/base",
      "model_module_version": "2.0.0",
      "model_name": "LayoutModel",
      "state": {}
     },
     "acc0f6985ed047d5a128d10c7490f7c0": {
      "model_module": "jupyter-matplotlib",
      "model_module_version": "^0.11",
      "model_name": "ToolbarModel",
      "state": {
       "_model_module_version": "^0.11",
       "_view_module_version": "^0.11",
       "collapsed": true,
       "layout": "IPY_MODEL_d95d5dcf0ca5491bae26bc9bcc030406",
       "orientation": "vertical",
       "toolitems": [
        [
         "Home",
         "Reset original view",
         "home",
         "home"
        ],
        [
         "Back",
         "Back to previous view",
         "arrow-left",
         "back"
        ],
        [
         "Forward",
         "Forward to next view",
         "arrow-right",
         "forward"
        ],
        [
         "Pan",
         "Left button pans, Right button zooms\nx/y fixes axis, CTRL fixes aspect",
         "arrows",
         "pan"
        ],
        [
         "Zoom",
         "Zoom to rectangle\nx/y fixes axis",
         "square-o",
         "zoom"
        ],
        [
         "Download",
         "Download plot",
         "floppy-o",
         "save_figure"
        ]
       ]
      }
     },
     "af53e091c0404ef6894e6b6a0b1e2870": {
      "model_module": "@jupyter-widgets/base",
      "model_module_version": "2.0.0",
      "model_name": "LayoutModel",
      "state": {}
     },
     "b35d08b2cb4c4253ac51c3245a6a0299": {
      "model_module": "@jupyter-widgets/base",
      "model_module_version": "2.0.0",
      "model_name": "LayoutModel",
      "state": {}
     },
     "b4cfc8062f10466294c7de389b9a1e25": {
      "model_module": "jupyter-matplotlib",
      "model_module_version": "^0.11",
      "model_name": "ToolbarModel",
      "state": {
       "_model_module_version": "^0.11",
       "_view_module_version": "^0.11",
       "collapsed": true,
       "layout": "IPY_MODEL_9452bb10fa2248979219afb20baa3b76",
       "orientation": "vertical",
       "toolitems": [
        [
         "Home",
         "Reset original view",
         "home",
         "home"
        ],
        [
         "Back",
         "Back to previous view",
         "arrow-left",
         "back"
        ],
        [
         "Forward",
         "Forward to next view",
         "arrow-right",
         "forward"
        ],
        [
         "Pan",
         "Left button pans, Right button zooms\nx/y fixes axis, CTRL fixes aspect",
         "arrows",
         "pan"
        ],
        [
         "Zoom",
         "Zoom to rectangle\nx/y fixes axis",
         "square-o",
         "zoom"
        ],
        [
         "Download",
         "Download plot",
         "floppy-o",
         "save_figure"
        ]
       ]
      }
     },
     "b79cf4a72a5148cfa5641be7884b9664": {
      "model_module": "@jupyter-widgets/base",
      "model_module_version": "2.0.0",
      "model_name": "LayoutModel",
      "state": {}
     },
     "b7ba9be2b3044d50ac8059ee4c53df1f": {
      "model_module": "@jupyter-widgets/base",
      "model_module_version": "2.0.0",
      "model_name": "LayoutModel",
      "state": {}
     },
     "b9a0f06ba45a4731af483b8fec56b3e0": {
      "model_module": "@jupyter-widgets/base",
      "model_module_version": "2.0.0",
      "model_name": "LayoutModel",
      "state": {}
     },
     "bb52cd4339e54e7ea1faf95a4bc19fae": {
      "model_module": "@jupyter-widgets/base",
      "model_module_version": "2.0.0",
      "model_name": "LayoutModel",
      "state": {}
     },
     "bbb3169204e949c080e67d5efc210080": {
      "model_module": "jupyter-matplotlib",
      "model_module_version": "^0.11",
      "model_name": "ToolbarModel",
      "state": {
       "_model_module_version": "^0.11",
       "_view_module_version": "^0.11",
       "collapsed": true,
       "layout": "IPY_MODEL_b35d08b2cb4c4253ac51c3245a6a0299",
       "orientation": "vertical",
       "toolitems": [
        [
         "Home",
         "Reset original view",
         "home",
         "home"
        ],
        [
         "Back",
         "Back to previous view",
         "arrow-left",
         "back"
        ],
        [
         "Forward",
         "Forward to next view",
         "arrow-right",
         "forward"
        ],
        [
         "Pan",
         "Left button pans, Right button zooms\nx/y fixes axis, CTRL fixes aspect",
         "arrows",
         "pan"
        ],
        [
         "Zoom",
         "Zoom to rectangle\nx/y fixes axis",
         "square-o",
         "zoom"
        ],
        [
         "Download",
         "Download plot",
         "floppy-o",
         "save_figure"
        ]
       ]
      }
     },
     "bdd1bc7d30434f97b3a2437ad851ab16": {
      "model_module": "@jupyter-widgets/base",
      "model_module_version": "2.0.0",
      "model_name": "LayoutModel",
      "state": {}
     },
     "c04c38e46a7e44349e56ebc058dac242": {
      "model_module": "@jupyter-widgets/base",
      "model_module_version": "2.0.0",
      "model_name": "LayoutModel",
      "state": {}
     },
     "c0f6aeff05c84991be881275c160afdf": {
      "model_module": "@jupyter-widgets/base",
      "model_module_version": "2.0.0",
      "model_name": "LayoutModel",
      "state": {}
     },
     "c258417b1047417cae3d658ca2ac77d1": {
      "model_module": "jupyter-matplotlib",
      "model_module_version": "^0.11",
      "model_name": "MPLCanvasModel",
      "state": {
       "_model_module_version": "^0.11",
       "_view_module_version": "^0.11",
       "layout": "IPY_MODEL_5b9d0385e5464a4e8a040983841b76fc",
       "toolbar_position": "left"
      }
     },
     "c4db6f4124914804ade21c25f11ff222": {
      "model_module": "@jupyter-widgets/base",
      "model_module_version": "2.0.0",
      "model_name": "LayoutModel",
      "state": {}
     },
     "c84150e1c15441aaa5e8eb774378fa03": {
      "model_module": "@jupyter-widgets/base",
      "model_module_version": "2.0.0",
      "model_name": "LayoutModel",
      "state": {}
     },
     "c8a9e0a3d0ab4312a27169f139f2c420": {
      "model_module": "@jupyter-widgets/base",
      "model_module_version": "2.0.0",
      "model_name": "LayoutModel",
      "state": {}
     },
     "c94080cbb736451a99cc74eaa49ccbd9": {
      "model_module": "jupyter-matplotlib",
      "model_module_version": "^0.11",
      "model_name": "ToolbarModel",
      "state": {
       "_model_module_version": "^0.11",
       "_view_module_version": "^0.11",
       "collapsed": true,
       "layout": "IPY_MODEL_efc66609f745423ab5c0bd1557959f8f",
       "orientation": "vertical",
       "toolitems": [
        [
         "Home",
         "Reset original view",
         "home",
         "home"
        ],
        [
         "Back",
         "Back to previous view",
         "arrow-left",
         "back"
        ],
        [
         "Forward",
         "Forward to next view",
         "arrow-right",
         "forward"
        ],
        [
         "Pan",
         "Left button pans, Right button zooms\nx/y fixes axis, CTRL fixes aspect",
         "arrows",
         "pan"
        ],
        [
         "Zoom",
         "Zoom to rectangle\nx/y fixes axis",
         "square-o",
         "zoom"
        ],
        [
         "Download",
         "Download plot",
         "floppy-o",
         "save_figure"
        ]
       ]
      }
     },
     "d306d990382d4a9cbb4626705c54625f": {
      "model_module": "jupyter-matplotlib",
      "model_module_version": "^0.11",
      "model_name": "ToolbarModel",
      "state": {
       "_model_module_version": "^0.11",
       "_view_module_version": "^0.11",
       "collapsed": true,
       "layout": "IPY_MODEL_7d924f481a0b4c0095f0c5894a0ae40d",
       "orientation": "vertical",
       "toolitems": [
        [
         "Home",
         "Reset original view",
         "home",
         "home"
        ],
        [
         "Back",
         "Back to previous view",
         "arrow-left",
         "back"
        ],
        [
         "Forward",
         "Forward to next view",
         "arrow-right",
         "forward"
        ],
        [
         "Pan",
         "Left button pans, Right button zooms\nx/y fixes axis, CTRL fixes aspect",
         "arrows",
         "pan"
        ],
        [
         "Zoom",
         "Zoom to rectangle\nx/y fixes axis",
         "square-o",
         "zoom"
        ],
        [
         "Download",
         "Download plot",
         "floppy-o",
         "save_figure"
        ]
       ]
      }
     },
     "d331c1e405684d57a7f0f25456aa5021": {
      "model_module": "jupyter-matplotlib",
      "model_module_version": "^0.11",
      "model_name": "ToolbarModel",
      "state": {
       "_model_module_version": "^0.11",
       "_view_module_version": "^0.11",
       "collapsed": true,
       "layout": "IPY_MODEL_bdd1bc7d30434f97b3a2437ad851ab16",
       "orientation": "vertical",
       "toolitems": [
        [
         "Home",
         "Reset original view",
         "home",
         "home"
        ],
        [
         "Back",
         "Back to previous view",
         "arrow-left",
         "back"
        ],
        [
         "Forward",
         "Forward to next view",
         "arrow-right",
         "forward"
        ],
        [
         "Pan",
         "Left button pans, Right button zooms\nx/y fixes axis, CTRL fixes aspect",
         "arrows",
         "pan"
        ],
        [
         "Zoom",
         "Zoom to rectangle\nx/y fixes axis",
         "square-o",
         "zoom"
        ],
        [
         "Download",
         "Download plot",
         "floppy-o",
         "save_figure"
        ]
       ]
      }
     },
     "d95d5dcf0ca5491bae26bc9bcc030406": {
      "model_module": "@jupyter-widgets/base",
      "model_module_version": "2.0.0",
      "model_name": "LayoutModel",
      "state": {}
     },
     "d9eb311b4fa747809fe4743b6b8dd244": {
      "model_module": "@jupyter-widgets/base",
      "model_module_version": "2.0.0",
      "model_name": "LayoutModel",
      "state": {}
     },
     "de16e4560c98482bb1671d8aed9a40f1": {
      "model_module": "jupyter-matplotlib",
      "model_module_version": "^0.11",
      "model_name": "ToolbarModel",
      "state": {
       "_model_module_version": "^0.11",
       "_view_module_version": "^0.11",
       "collapsed": true,
       "layout": "IPY_MODEL_0e8258919a9d4a769efe7016dfdfb300",
       "orientation": "vertical",
       "toolitems": [
        [
         "Home",
         "Reset original view",
         "home",
         "home"
        ],
        [
         "Back",
         "Back to previous view",
         "arrow-left",
         "back"
        ],
        [
         "Forward",
         "Forward to next view",
         "arrow-right",
         "forward"
        ],
        [
         "Pan",
         "Left button pans, Right button zooms\nx/y fixes axis, CTRL fixes aspect",
         "arrows",
         "pan"
        ],
        [
         "Zoom",
         "Zoom to rectangle\nx/y fixes axis",
         "square-o",
         "zoom"
        ],
        [
         "Download",
         "Download plot",
         "floppy-o",
         "save_figure"
        ]
       ]
      }
     },
     "e0b005b183d1413f8fc09b24f2263304": {
      "model_module": "@jupyter-widgets/base",
      "model_module_version": "2.0.0",
      "model_name": "LayoutModel",
      "state": {}
     },
     "e1af9a6c1346422caf8351d55f699a9b": {
      "model_module": "jupyter-matplotlib",
      "model_module_version": "^0.11",
      "model_name": "ToolbarModel",
      "state": {
       "_model_module_version": "^0.11",
       "_view_module_version": "^0.11",
       "collapsed": true,
       "layout": "IPY_MODEL_a5b941b927b241978b163f389cd2ae90",
       "orientation": "vertical",
       "toolitems": [
        [
         "Home",
         "Reset original view",
         "home",
         "home"
        ],
        [
         "Back",
         "Back to previous view",
         "arrow-left",
         "back"
        ],
        [
         "Forward",
         "Forward to next view",
         "arrow-right",
         "forward"
        ],
        [
         "Pan",
         "Left button pans, Right button zooms\nx/y fixes axis, CTRL fixes aspect",
         "arrows",
         "pan"
        ],
        [
         "Zoom",
         "Zoom to rectangle\nx/y fixes axis",
         "square-o",
         "zoom"
        ],
        [
         "Download",
         "Download plot",
         "floppy-o",
         "save_figure"
        ]
       ]
      }
     },
     "e614f6f056634d9a8eb6120ba9a79820": {
      "model_module": "jupyter-matplotlib",
      "model_module_version": "^0.11",
      "model_name": "ToolbarModel",
      "state": {
       "_model_module_version": "^0.11",
       "_view_module_version": "^0.11",
       "collapsed": true,
       "layout": "IPY_MODEL_abc748f30e6342528e2c745022198439",
       "orientation": "vertical",
       "toolitems": [
        [
         "Home",
         "Reset original view",
         "home",
         "home"
        ],
        [
         "Back",
         "Back to previous view",
         "arrow-left",
         "back"
        ],
        [
         "Forward",
         "Forward to next view",
         "arrow-right",
         "forward"
        ],
        [
         "Pan",
         "Left button pans, Right button zooms\nx/y fixes axis, CTRL fixes aspect",
         "arrows",
         "pan"
        ],
        [
         "Zoom",
         "Zoom to rectangle\nx/y fixes axis",
         "square-o",
         "zoom"
        ],
        [
         "Download",
         "Download plot",
         "floppy-o",
         "save_figure"
        ]
       ]
      }
     },
     "ecd2e69cecee40f587962109cb01f530": {
      "model_module": "jupyter-matplotlib",
      "model_module_version": "^0.11",
      "model_name": "ToolbarModel",
      "state": {
       "_model_module_version": "^0.11",
       "_view_module_version": "^0.11",
       "collapsed": true,
       "layout": "IPY_MODEL_997d8c4d28cc4af783b7586f8ed0a1fc",
       "orientation": "vertical",
       "toolitems": [
        [
         "Home",
         "Reset original view",
         "home",
         "home"
        ],
        [
         "Back",
         "Back to previous view",
         "arrow-left",
         "back"
        ],
        [
         "Forward",
         "Forward to next view",
         "arrow-right",
         "forward"
        ],
        [
         "Pan",
         "Left button pans, Right button zooms\nx/y fixes axis, CTRL fixes aspect",
         "arrows",
         "pan"
        ],
        [
         "Zoom",
         "Zoom to rectangle\nx/y fixes axis",
         "square-o",
         "zoom"
        ],
        [
         "Download",
         "Download plot",
         "floppy-o",
         "save_figure"
        ]
       ]
      }
     },
     "ee19405fb7074c0bad0920ea6a61dc2f": {
      "model_module": "@jupyter-widgets/base",
      "model_module_version": "2.0.0",
      "model_name": "LayoutModel",
      "state": {}
     },
     "ee8de8bb096f4b1fa7fad1fdfa8d86e0": {
      "model_module": "@jupyter-widgets/base",
      "model_module_version": "2.0.0",
      "model_name": "LayoutModel",
      "state": {}
     },
     "eec9909ae3384196bcc1f0935bb74fdb": {
      "model_module": "jupyter-matplotlib",
      "model_module_version": "^0.11",
      "model_name": "ToolbarModel",
      "state": {
       "_model_module_version": "^0.11",
       "_view_module_version": "^0.11",
       "collapsed": true,
       "layout": "IPY_MODEL_4faf541d503e4134a5ead529182de401",
       "orientation": "vertical",
       "toolitems": [
        [
         "Home",
         "Reset original view",
         "home",
         "home"
        ],
        [
         "Back",
         "Back to previous view",
         "arrow-left",
         "back"
        ],
        [
         "Forward",
         "Forward to next view",
         "arrow-right",
         "forward"
        ],
        [
         "Pan",
         "Left button pans, Right button zooms\nx/y fixes axis, CTRL fixes aspect",
         "arrows",
         "pan"
        ],
        [
         "Zoom",
         "Zoom to rectangle\nx/y fixes axis",
         "square-o",
         "zoom"
        ],
        [
         "Download",
         "Download plot",
         "floppy-o",
         "save_figure"
        ]
       ]
      }
     },
     "efc66609f745423ab5c0bd1557959f8f": {
      "model_module": "@jupyter-widgets/base",
      "model_module_version": "2.0.0",
      "model_name": "LayoutModel",
      "state": {}
     },
     "f4d4164fe1e04e54965852f4544b0f98": {
      "model_module": "jupyter-matplotlib",
      "model_module_version": "^0.11",
      "model_name": "ToolbarModel",
      "state": {
       "_model_module_version": "^0.11",
       "_view_module_version": "^0.11",
       "collapsed": true,
       "layout": "IPY_MODEL_8b8570eea2e542c4964544fa46c74bcf",
       "orientation": "vertical",
       "toolitems": [
        [
         "Home",
         "Reset original view",
         "home",
         "home"
        ],
        [
         "Back",
         "Back to previous view",
         "arrow-left",
         "back"
        ],
        [
         "Forward",
         "Forward to next view",
         "arrow-right",
         "forward"
        ],
        [
         "Pan",
         "Left button pans, Right button zooms\nx/y fixes axis, CTRL fixes aspect",
         "arrows",
         "pan"
        ],
        [
         "Zoom",
         "Zoom to rectangle\nx/y fixes axis",
         "square-o",
         "zoom"
        ],
        [
         "Download",
         "Download plot",
         "floppy-o",
         "save_figure"
        ]
       ]
      }
     },
     "f5591716b3044fb4aabbb93b98b1655d": {
      "model_module": "@jupyter-widgets/base",
      "model_module_version": "2.0.0",
      "model_name": "LayoutModel",
      "state": {}
     },
     "f8473273771a42419817b6e4d407ae07": {
      "model_module": "jupyter-matplotlib",
      "model_module_version": "^0.11",
      "model_name": "ToolbarModel",
      "state": {
       "_model_module_version": "^0.11",
       "_view_module_version": "^0.11",
       "collapsed": true,
       "layout": "IPY_MODEL_651808a61cff4d7c959f358962f866a2",
       "orientation": "vertical",
       "toolitems": [
        [
         "Home",
         "Reset original view",
         "home",
         "home"
        ],
        [
         "Back",
         "Back to previous view",
         "arrow-left",
         "back"
        ],
        [
         "Forward",
         "Forward to next view",
         "arrow-right",
         "forward"
        ],
        [
         "Pan",
         "Left button pans, Right button zooms\nx/y fixes axis, CTRL fixes aspect",
         "arrows",
         "pan"
        ],
        [
         "Zoom",
         "Zoom to rectangle\nx/y fixes axis",
         "square-o",
         "zoom"
        ],
        [
         "Download",
         "Download plot",
         "floppy-o",
         "save_figure"
        ]
       ]
      }
     },
     "fca9eab661f9444986383c7942da1ed2": {
      "model_module": "jupyter-matplotlib",
      "model_module_version": "^0.11",
      "model_name": "MPLCanvasModel",
      "state": {
       "_data_url": "data:image/png;base64,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",
       "_model_module_version": "^0.11",
       "_size": [
        640,
        480
       ],
       "_view_module_version": "^0.11",
       "layout": "IPY_MODEL_f5591716b3044fb4aabbb93b98b1655d",
       "toolbar": "IPY_MODEL_b4cfc8062f10466294c7de389b9a1e25",
       "toolbar_position": "left"
      }
     }
    },
    "version_major": 2,
    "version_minor": 0
   }
  }
 },
 "nbformat": 4,
 "nbformat_minor": 5
}
